{
 "cells": [
  {
   "cell_type": "code",
   "execution_count": 1,
   "metadata": {},
   "outputs": [],
   "source": [
    "import numpy as np\n",
    "import pandas as pd\n",
    "import itertools\n",
    "from sklearn.model_selection import train_test_split\n",
    "from sklearn.feature_extraction.text import TfidfVectorizer\n",
    "from sklearn.linear_model import PassiveAggressiveClassifier\n",
    "from sklearn.metrics import accuracy_score, confusion_matrix"
   ]
  },
  {
   "cell_type": "code",
   "execution_count": 2,
   "metadata": {},
   "outputs": [],
   "source": [
    "#download news dataset that has either a FAKE or REAL labels\n",
    "data=pd.read_csv(\"../Desktop/Data Analysis/news/news.csv\")"
   ]
  },
  {
   "cell_type": "code",
   "execution_count": 3,
   "metadata": {},
   "outputs": [],
   "source": [
    "#split the data into training and test for statistical purposes\n",
    "x_train, x_test, y_train, y_test = train_test_split(data.text,data.label,train_size=0.2,random_state=7)"
   ]
  },
  {
   "cell_type": "code",
   "execution_count": 4,
   "metadata": {},
   "outputs": [],
   "source": [
    "#initialize a TFidVector to catch number of times a word appears and measure how significant a term is in the entirety\n",
    "vectorizer= TfidfVectorizer(stop_words='english',max_df=0.7)\n",
    "#fit and transform the vector on the train set\n",
    "XTrain= vectorizer.fit_transform(x_train)\n",
    "#just transform the vector on the test set\n",
    "XTest=vectorizer.transform(x_test)"
   ]
  },
  {
   "cell_type": "code",
   "execution_count": 5,
   "metadata": {},
   "outputs": [
    {
     "name": "stdout",
     "output_type": "stream",
     "text": [
      "Accuracy: 91.0%\n"
     ]
    }
   ],
   "source": [
    "#initialize a PassiveAgressiveClassifier to remain passive for correct classificationa nd aggressive for miscalculation\n",
    "clf = PassiveAggressiveClassifier(max_iter=50)\n",
    "#fit this to XTrain and y_train\n",
    "clf.fit(XTrain,y_train)\n",
    "#calculate predictions from the test set\n",
    "predictions=clf.predict(XTest)\n",
    "#then find the accuracy of this model and if its high then go on to next step\n",
    "score=accuracy_score(y_test,predictions)\n",
    "print(f'Accuracy: {round(score*100,2)}%')"
   ]
  },
  {
   "cell_type": "code",
   "execution_count": 7,
   "metadata": {},
   "outputs": [
    {
     "data": {
      "text/plain": [
       "array([[2323,  233],\n",
       "       [ 223, 2289]], dtype=int64)"
      ]
     },
     "execution_count": 7,
     "metadata": {},
     "output_type": "execute_result"
    }
   ],
   "source": [
    "#now we know this model has a high accuracy we go to finding how many [true positives,false negatives],[false positives,true negatives] \n",
    "confusion_matrix(y_test,predictions, labels=['FAKE','REAL'])"
   ]
  },
  {
   "cell_type": "code",
   "execution_count": null,
   "metadata": {},
   "outputs": [],
   "source": []
  }
 ],
 "metadata": {
  "kernelspec": {
   "display_name": "Python 3",
   "language": "python",
   "name": "python3"
  },
  "language_info": {
   "codemirror_mode": {
    "name": "ipython",
    "version": 3
   },
   "file_extension": ".py",
   "mimetype": "text/x-python",
   "name": "python",
   "nbconvert_exporter": "python",
   "pygments_lexer": "ipython3",
   "version": "3.8.3"
  }
 },
 "nbformat": 4,
 "nbformat_minor": 4
}
